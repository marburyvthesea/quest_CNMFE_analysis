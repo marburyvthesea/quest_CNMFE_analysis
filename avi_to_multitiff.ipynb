{
 "cells": [
  {
   "cell_type": "code",
   "execution_count": 1,
   "metadata": {},
   "outputs": [
    {
     "ename": "SyntaxError",
     "evalue": "Missing parentheses in call to 'print'. Did you mean print(url)? (__init__.py, line 39)",
     "output_type": "error",
     "traceback": [
      "Traceback \u001b[0;36m(most recent call last)\u001b[0m:\n",
      "  File \u001b[1;32m\"/Users/johnmarshall/miniconda3/envs/miniscope/lib/python3.6/site-packages/IPython/core/interactiveshell.py\"\u001b[0m, line \u001b[1;32m2963\u001b[0m, in \u001b[1;35mrun_code\u001b[0m\n    exec(code_obj, self.user_global_ns, self.user_ns)\n",
      "  File \u001b[1;32m\"<ipython-input-1-ee2cef187044>\"\u001b[0m, line \u001b[1;32m2\u001b[0m, in \u001b[1;35m<module>\u001b[0m\n    from videosequence import VideoSequence\n",
      "\u001b[0;36m  File \u001b[0;32m\"/Users/johnmarshall/.local/lib/python3.6/site-packages/videosequence/__init__.py\"\u001b[0;36m, line \u001b[0;32m9\u001b[0;36m, in \u001b[0;35m<module>\u001b[0;36m\u001b[0m\n\u001b[0;31m    import gi\u001b[0m\n",
      "\u001b[0;36m  File \u001b[0;32m\"/Users/johnmarshall/miniconda3/envs/miniscope/lib/python3.6/site-packages/gi/__init__.py\"\u001b[0;36m, line \u001b[0;32m39\u001b[0m\n\u001b[0;31m    print url\u001b[0m\n\u001b[0m            ^\u001b[0m\n\u001b[0;31mSyntaxError\u001b[0m\u001b[0;31m:\u001b[0m Missing parentheses in call to 'print'. Did you mean print(url)?\n"
     ]
    }
   ],
   "source": [
    "from contextlib import closing\n",
    "from videosequence import VideoSequence"
   ]
  },
  {
   "cell_type": "code",
   "execution_count": null,
   "metadata": {},
   "outputs": [],
   "source": []
  }
 ],
 "metadata": {
  "kernelspec": {
   "display_name": "Python 3",
   "language": "python",
   "name": "python3"
  },
  "language_info": {
   "codemirror_mode": {
    "name": "ipython",
    "version": 3
   },
   "file_extension": ".py",
   "mimetype": "text/x-python",
   "name": "python",
   "nbconvert_exporter": "python",
   "pygments_lexer": "ipython3",
   "version": "3.6.5"
  }
 },
 "nbformat": 4,
 "nbformat_minor": 2
}
