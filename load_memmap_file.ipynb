{
 "cells": [
  {
   "cell_type": "code",
   "execution_count": 21,
   "metadata": {},
   "outputs": [
    {
     "data": {
      "text/html": [
       "<style>.container { width:100% !important; }</style>"
      ],
      "text/plain": [
       "<IPython.core.display.HTML object>"
      ]
     },
     "metadata": {},
     "output_type": "display_data"
    }
   ],
   "source": [
    "from IPython.core.display import display, HTML\n",
    "display(HTML(\"<style>.container { width:100% !important; }</style>\"))\n",
    "import matplotlib.pyplot as plt\n",
    "import numpy as np\n",
    "import os\n",
    "import h5py as hd\n",
    "from tqdm import tqdm"
   ]
  },
  {
   "cell_type": "code",
   "execution_count": 3,
   "metadata": {},
   "outputs": [],
   "source": [
    "## These functions from mmpapping.py in caiman cnmfe\n",
    "def prepare_shape(mytuple):\n",
    "    \"\"\" This promotes the elements inside a shape into np.uint64. It is intended to prevent overflows\n",
    "        with some numpy operations that are sensitive to it, e.g. np.memmap \"\"\"\n",
    "    if not isinstance(mytuple, tuple):\n",
    "        raise Exception(\"Internal error: prepare_shape() passed a non-tuple\")\n",
    "    return tuple(map(lambda x: np.uint64(x), mytuple))\n",
    "\n",
    "def load_memmap(filename, mode='r'):\n",
    "    \"\"\" Load a memory mapped file created by the function save_memmap\n",
    "    Args:\n",
    "        filename: str\n",
    "            path of the file to be loaded\n",
    "        mode: str\n",
    "            One of 'r', 'r+', 'w+'. How to interact with files\n",
    "    Returns:\n",
    "        Yr:\n",
    "            memory mapped variable\n",
    "        dims: tuple\n",
    "            frame dimensions\n",
    "        T: int\n",
    "            number of frames\n",
    "    Raises:\n",
    "        Exception \"Unknown file extension\"\n",
    "    \"\"\"\n",
    "    if ('.mmap' in filename):\n",
    "        # Strip path components and use CAIMAN_DATA/example_movies\n",
    "        # TODO: Eventually get the code to save these in a different dir\n",
    "        file_to_load = filename\n",
    "        filename = os.path.split(filename)[-1]\n",
    "        fpart = filename.split('_')[1:-1] # The filename encodes the structure of the map\n",
    "        d1, d2, d3, T, order = int(fpart[-9]), int(fpart[-7]\n",
    "                                                   ), int(fpart[-5]), int(fpart[-1]), fpart[-3]\n",
    "        Yr = np.memmap(file_to_load, mode=mode, shape=prepare_shape((d1 * d2 * d3, T)), dtype=np.float32, order=order)\n",
    "        return (Yr, (d1, d2), T) if d3 == 1 else (Yr, (d1, d2, d3), T)\n",
    "    else:\n",
    "        logging.error(\"Unknown extension for file \" + str(filename))\n",
    "        raise Exception('Unknown file extension (should be .mmap)')"
   ]
  },
  {
   "cell_type": "code",
   "execution_count": 33,
   "metadata": {},
   "outputs": [],
   "source": [
    "# load memory mapped file\n",
    "path_to_file = '/volumes/My_Passport/MiniscopeMovies/1_24_2019/GRIN_011_ACHf20/H10_M19_S59/TIFs/H10_M19_S59msCam9_rig__d1_480_d2_752_d3_1_order_F_frames_1000_.mmap'\n",
    "memmap_output = load_memmap(path_to_file, mode='r')"
   ]
  },
  {
   "cell_type": "code",
   "execution_count": 38,
   "metadata": {},
   "outputs": [
    {
     "data": {
      "text/plain": [
       "(360960, 1000)"
      ]
     },
     "execution_count": 38,
     "metadata": {},
     "output_type": "execute_result"
    }
   ],
   "source": [
    "np.shape(memmap_output[0])"
   ]
  },
  {
   "cell_type": "code",
   "execution_count": 40,
   "metadata": {},
   "outputs": [
    {
     "data": {
      "text/plain": [
       "360960"
      ]
     },
     "execution_count": 40,
     "metadata": {},
     "output_type": "execute_result"
    }
   ],
   "source": [
    "np.prod(memmap_output[1])"
   ]
  },
  {
   "cell_type": "code",
   "execution_count": 71,
   "metadata": {},
   "outputs": [
    {
     "data": {
      "text/plain": [
       "(480, 752)"
      ]
     },
     "execution_count": 71,
     "metadata": {},
     "output_type": "execute_result"
    }
   ],
   "source": [
    "memmap_output[1]"
   ]
  },
  {
   "cell_type": "code",
   "execution_count": 32,
   "metadata": {},
   "outputs": [],
   "source": [
    "# create reshaped movie for viewing\n",
    "hdf_file_name = path_to_file.rstrip('_.mmap')+'_resized.hdf5'\n",
    "file = hd.File(hdf_file_name, \"w\")\n",
    "movie = file.create_dataset('movie', shape = (int(memmap_output[2]), 480, 752), dtype = np.float32, chunks=True)\n",
    "\n",
    "# movie is stored in memmap[0], array of dimension (pixels, frames)\n",
    "# memmap[1] is movie dimensions in height x width\n",
    "# memmap[2] is # of frames\n",
    "for frame in tqdm(range(int(memmap_output[2]))):\n",
    "    frame_n = memmap_output[0][:,frame]\n",
    "    # reshape movie for viewing\n",
    "    movie[frame] = np.transpose(np.reshape(frame_n, (752, 480)))\n",
    "    \n",
    "file.close()"
   ]
  },
  {
   "cell_type": "code",
   "execution_count": 89,
   "metadata": {},
   "outputs": [
    {
     "data": {
      "text/plain": [
       "('/volumes/My_Passport/MiniscopeMovies/1_24_2019/GRIN_011_ACHf20/H10_M19_S59/TIFs',\n",
       " 'H10_M19_S59msCam9_rig__d1_480_d2_752_d3_1_order_F_frames_1000_2d.hdf5')"
      ]
     },
     "execution_count": 89,
     "metadata": {},
     "output_type": "execute_result"
    }
   ],
   "source": [
    "os.path.split(hdf_file_name)"
   ]
  },
  {
   "cell_type": "code",
   "execution_count": 92,
   "metadata": {},
   "outputs": [
    {
     "data": {
      "text/plain": [
       "(752, 480)"
      ]
     },
     "execution_count": 92,
     "metadata": {},
     "output_type": "execute_result"
    }
   ],
   "source": [
    "tuple(np.flip(memmap_output[1]))"
   ]
  },
  {
   "cell_type": "code",
   "execution_count": 96,
   "metadata": {},
   "outputs": [
    {
     "name": "stderr",
     "output_type": "stream",
     "text": [
      "100%|██████████| 1000/1000 [01:16<00:00, 13.06it/s]\n"
     ]
    }
   ],
   "source": [
    "hdf_file_name = path_to_file.rstrip('_.mmap')+'_2d_forquest_cnmfe.hdf5'\n",
    "file = hd.File(hdf_file_name, \"w\")\n",
    "movie = file.create_dataset('movie', shape = (int(memmap_output[2]), np.prod(memmap_output[1])), dtype = np.float32, chunks=True)\n",
    "file.attrs['folder'] = os.path.split(hdf_file_name)[0]\n",
    "file.attrs['filename'] = hdf_file_name \n",
    "# movie is stored in memmap[0], array of dimension (pixels, frames)\n",
    "# memmap[1] is movie dimensions in height x width\n",
    "# memmap[2] is # of frames\n",
    "# input for miniscoPy is transpose of caiman normcorr output\n",
    "movie_array = np.array(memmap_output[0])\n",
    "for frame in tqdm(range(int(np.shape(movie_array)[1]))):\n",
    "    movie[frame] = movie_array[:,frame]\n",
    "\n",
    "file['movie'].attrs['duration'] = int(memmap_output[2])\n",
    "file['movie'].attrs['dims'] = tuple(np.flip(memmap_output[1]))\n",
    "    \n",
    "file.close()"
   ]
  },
  {
   "cell_type": "code",
   "execution_count": 73,
   "metadata": {},
   "outputs": [],
   "source": [
    "path_to_hdf5_file = '/volumes/My_Passport/MiniscopeMovies/GRIN_004_freely_moving/H16_M58_S18/motion_corrected.hdf5'\n",
    "file = hd.File(path_to_hdf5_file, \"r\")"
   ]
  },
  {
   "cell_type": "code",
   "execution_count": 87,
   "metadata": {},
   "outputs": [
    {
     "data": {
      "text/plain": [
       "360960"
      ]
     },
     "execution_count": 87,
     "metadata": {},
     "output_type": "execute_result"
    }
   ],
   "source": [
    "len(memmap_output[0][:,1])"
   ]
  },
  {
   "cell_type": "code",
   "execution_count": 74,
   "metadata": {},
   "outputs": [
    {
     "data": {
      "text/plain": [
       "(360960, 1000)"
      ]
     },
     "execution_count": 74,
     "metadata": {},
     "output_type": "execute_result"
    }
   ],
   "source": [
    "np.shape(memmap_output[0])"
   ]
  },
  {
   "cell_type": "code",
   "execution_count": 76,
   "metadata": {},
   "outputs": [
    {
     "data": {
      "text/plain": [
       "array([ 4., 29., 11., ..., 13., 13., 23.], dtype=float32)"
      ]
     },
     "execution_count": 76,
     "metadata": {},
     "output_type": "execute_result"
    }
   ],
   "source": [
    "file['movie'][0]"
   ]
  },
  {
   "cell_type": "code",
   "execution_count": 79,
   "metadata": {},
   "outputs": [
    {
     "data": {
      "text/plain": [
       "(360960, 1000)"
      ]
     },
     "execution_count": 79,
     "metadata": {},
     "output_type": "execute_result"
    }
   ],
   "source": [
    "np.shape(np.array(memmap_output[0]))"
   ]
  },
  {
   "cell_type": "code",
   "execution_count": null,
   "metadata": {},
   "outputs": [],
   "source": []
  }
 ],
 "metadata": {
  "kernelspec": {
   "display_name": "Python 3",
   "language": "python",
   "name": "python3"
  },
  "language_info": {
   "codemirror_mode": {
    "name": "ipython",
    "version": 3
   },
   "file_extension": ".py",
   "mimetype": "text/x-python",
   "name": "python",
   "nbconvert_exporter": "python",
   "pygments_lexer": "ipython3",
   "version": "3.6.6"
  }
 },
 "nbformat": 4,
 "nbformat_minor": 2
}
